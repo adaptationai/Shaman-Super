{
 "cells": [
  {
   "cell_type": "code",
   "execution_count": null,
   "metadata": {},
   "outputs": [],
   "source": []
  }
 ],
 "metadata": {
  "interpreter": {
   "hash": "1e31275357874fd3a825cbf14672ca7971b7c155dd54cb3b66006d004e1f79b1"
  },
  "kernelspec": {
   "display_name": "Python 3.9.12 64-bit ('shaman-super': conda)",
   "name": "python3"
  },
  "language_info": {
   "name": "python",
   "version": "3.9.12"
  },
  "orig_nbformat": 4
 },
 "nbformat": 4,
 "nbformat_minor": 2
}
